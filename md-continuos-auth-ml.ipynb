{
 "cells": [
  {
   "cell_type": "code",
   "execution_count": 1,
   "id": "1a278f9b",
   "metadata": {},
   "outputs": [],
   "source": [
    "import numpy as np\n",
    "import pandas as pd\n",
    "import glob\n",
    "import time\n",
    "\n",
    "from sklearn.model_selection import train_test_split\n",
    "\n",
    "from sklearn.impute import SimpleImputer\n",
    "\n",
    "from sklearn.decomposition import PCA\n",
    "\n",
    "from sklearn.svm import SVC\n",
    "from sklearn.naive_bayes import GaussianNB\n",
    "from sklearn.neighbors import KNeighborsClassifier\n",
    "from sklearn.tree import DecisionTreeClassifier\n",
    "from sklearn.linear_model import LogisticRegression\n",
    "\n",
    "from sklearn.metrics import confusion_matrix"
   ]
  },
  {
   "cell_type": "code",
   "execution_count": 2,
   "id": "0362060a",
   "metadata": {},
   "outputs": [],
   "source": [
    "def extract_data_from_path(folder_path, label):\n",
    "    \"\"\"extracts data from a set of CSV files into one DataFrame\"\"\"\n",
    "    \n",
    "    # get path to all files\n",
    "    all_files = glob.glob(folder_path + \"/*.csv\")\n",
    "    \n",
    "    # read each file into a DataFrame\n",
    "    li = []\n",
    "    for filename in all_files:\n",
    "        df = pd.read_csv(filename, index_col=None, header=0)\n",
    "        li.append(df)\n",
    "    \n",
    "    # concatenate all DataFrames\n",
    "    concat_df = pd.concat(li, axis=0, ignore_index=True)\n",
    "    \n",
    "    # remove unncessary column\n",
    "    concat_df.drop('Unnamed: 0', axis=1, inplace=True)\n",
    "    \n",
    "    # add the label to the DataFrame\n",
    "    concat_df['label'] = label\n",
    "    \n",
    "    return concat_df"
   ]
  },
  {
   "cell_type": "code",
   "execution_count": 3,
   "id": "57963ce6",
   "metadata": {},
   "outputs": [],
   "source": [
    "def avg_num_imposter_actions(y_test, y_pred):\n",
    "    \"\"\"calculates the average number of actions required to identiy an imposter\"\"\"\n",
    "    \n",
    "    tn, fp, fn, tp = confusion_matrix(y_test, y_pred).ravel()\n",
    "    ta = y_test.size\n",
    "    return ta / (1 - (fp / ta))"
   ]
  },
  {
   "cell_type": "markdown",
   "id": "57cc825d",
   "metadata": {},
   "source": [
    "User 2"
   ]
  },
  {
   "cell_type": "code",
   "execution_count": 4,
   "id": "e782f245",
   "metadata": {},
   "outputs": [],
   "source": [
    "# extract data for user 2\n",
    "user2_df = extract_data_from_path(r'C:\\Users\\DELL\\Documents\\Research\\Mouse Dynamics\\Dataset\\user2\\extracted', 1)"
   ]
  },
  {
   "cell_type": "markdown",
   "id": "d8047ac8",
   "metadata": {},
   "source": [
    "User 4"
   ]
  },
  {
   "cell_type": "code",
   "execution_count": 5,
   "id": "405211b2",
   "metadata": {},
   "outputs": [],
   "source": [
    "# extract data for user 4\n",
    "user4_df = extract_data_from_path(r'C:\\Users\\DELL\\Documents\\Research\\Mouse Dynamics\\Dataset\\user4\\extracted', 0)"
   ]
  },
  {
   "cell_type": "markdown",
   "id": "b1282376",
   "metadata": {},
   "source": [
    "ML"
   ]
  },
  {
   "cell_type": "code",
   "execution_count": 6,
   "id": "a2d50e80",
   "metadata": {},
   "outputs": [],
   "source": [
    "# concatenate DataFrames into one\n",
    "df = pd.concat([user2_df, user4_df], axis=0, ignore_index=True)"
   ]
  },
  {
   "cell_type": "code",
   "execution_count": 7,
   "id": "f9b64ecc",
   "metadata": {},
   "outputs": [],
   "source": [
    "# split data into train and test sets\n",
    "x_train, x_test, y_train, y_test = train_test_split(np.nan_to_num(df.loc[:, df.columns != 'label']), df['label'] ,test_size=0.2, random_state=42)"
   ]
  },
  {
   "cell_type": "markdown",
   "id": "9ad75007",
   "metadata": {},
   "source": [
    "Logistic Regression"
   ]
  },
  {
   "cell_type": "code",
   "execution_count": 8,
   "id": "094e72b6",
   "metadata": {},
   "outputs": [
    {
     "name": "stdout",
     "output_type": "stream",
     "text": [
      "Logistic Regression Classifier has fitted, this process took 0.08 seconds\n"
     ]
    },
    {
     "name": "stderr",
     "output_type": "stream",
     "text": [
      "C:\\Users\\DELL\\anaconda3\\lib\\site-packages\\sklearn\\linear_model\\_logistic.py:762: ConvergenceWarning: lbfgs failed to converge (status=2):\n",
      "ABNORMAL_TERMINATION_IN_LNSRCH.\n",
      "\n",
      "Increase the number of iterations (max_iter) or scale the data as shown in:\n",
      "    https://scikit-learn.org/stable/modules/preprocessing.html\n",
      "Please also refer to the documentation for alternative solver options:\n",
      "    https://scikit-learn.org/stable/modules/linear_model.html#logistic-regression\n",
      "  n_iter_i = _check_optimize_result(\n"
     ]
    }
   ],
   "source": [
    "# create Logistic Regression model\n",
    "start = time.time() \n",
    "\n",
    "logistic_regression_classifier = LogisticRegression()\n",
    "logistic_regression_classifier.fit(np.nan_to_num(x_train.astype(np.float32)) ,y_train)\n",
    "\n",
    "end = time.time()\n",
    "process = round(end-start,2)\n",
    "print(\"Logistic Regression Classifier has fitted, this process took {} seconds\".format(process))"
   ]
  },
  {
   "cell_type": "code",
   "execution_count": 9,
   "id": "1ae97d5c",
   "metadata": {},
   "outputs": [
    {
     "data": {
      "text/plain": [
       "0.3768553459119497"
      ]
     },
     "execution_count": 9,
     "metadata": {},
     "output_type": "execute_result"
    }
   ],
   "source": [
    "# evaluate Logistic Regression model\n",
    "logistic_regression_classifier.score(np.nan_to_num(x_test.astype(np.float32)), y_test)"
   ]
  },
  {
   "cell_type": "markdown",
   "id": "e5eed7c5",
   "metadata": {},
   "source": [
    "SVM"
   ]
  },
  {
   "cell_type": "code",
   "execution_count": 10,
   "id": "8a1a84f9",
   "metadata": {},
   "outputs": [
    {
     "name": "stderr",
     "output_type": "stream",
     "text": [
      "C:\\Users\\DELL\\anaconda3\\lib\\site-packages\\numpy\\core\\fromnumeric.py:87: RuntimeWarning: overflow encountered in reduce\n",
      "  return ufunc.reduce(obj, axis, dtype, out, **passkwargs)\n",
      "C:\\Users\\DELL\\anaconda3\\lib\\site-packages\\numpy\\core\\_methods.py:192: RuntimeWarning: overflow encountered in reduce\n",
      "  arrmean = umr_sum(arr, axis, dtype, keepdims=True)\n"
     ]
    },
    {
     "name": "stdout",
     "output_type": "stream",
     "text": [
      "Support Vector Machine Classifier has fitted, this process took 13.48 seconds\n"
     ]
    }
   ],
   "source": [
    "# create SVM model\n",
    "start = time.time() \n",
    "\n",
    "svm_classifier = SVC()\n",
    "svm_classifier.fit(x_train,y_train)\n",
    "\n",
    "end = time.time()\n",
    "process = round(end-start,2)\n",
    "print(\"Support Vector Machine Classifier has fitted, this process took {} seconds\".format(process))"
   ]
  },
  {
   "cell_type": "code",
   "execution_count": 11,
   "id": "e4be795c",
   "metadata": {},
   "outputs": [
    {
     "name": "stderr",
     "output_type": "stream",
     "text": [
      "C:\\Users\\DELL\\anaconda3\\lib\\site-packages\\numpy\\core\\fromnumeric.py:87: RuntimeWarning: overflow encountered in reduce\n",
      "  return ufunc.reduce(obj, axis, dtype, out, **passkwargs)\n"
     ]
    },
    {
     "data": {
      "text/plain": [
       "0.6231446540880503"
      ]
     },
     "execution_count": 11,
     "metadata": {},
     "output_type": "execute_result"
    }
   ],
   "source": [
    "# evaluate SVM model\n",
    "svm_classifier.score(x_test,y_test)"
   ]
  },
  {
   "cell_type": "markdown",
   "id": "08b4b0a6",
   "metadata": {},
   "source": [
    "Naive Bayes"
   ]
  },
  {
   "cell_type": "code",
   "execution_count": 12,
   "id": "aa6aec5b",
   "metadata": {},
   "outputs": [
    {
     "name": "stdout",
     "output_type": "stream",
     "text": [
      "Naive Bayes Classifier has fitted, this process took 0.02 seconds\n"
     ]
    },
    {
     "name": "stderr",
     "output_type": "stream",
     "text": [
      "C:\\Users\\DELL\\anaconda3\\lib\\site-packages\\numpy\\core\\fromnumeric.py:87: RuntimeWarning: overflow encountered in reduce\n",
      "  return ufunc.reduce(obj, axis, dtype, out, **passkwargs)\n",
      "C:\\Users\\DELL\\anaconda3\\lib\\site-packages\\numpy\\core\\fromnumeric.py:87: RuntimeWarning: overflow encountered in reduce\n",
      "  return ufunc.reduce(obj, axis, dtype, out, **passkwargs)\n",
      "C:\\Users\\DELL\\anaconda3\\lib\\site-packages\\numpy\\core\\_methods.py:192: RuntimeWarning: overflow encountered in reduce\n",
      "  arrmean = umr_sum(arr, axis, dtype, keepdims=True)\n",
      "C:\\Users\\DELL\\anaconda3\\lib\\site-packages\\numpy\\core\\_methods.py:160: RuntimeWarning: overflow encountered in reduce\n",
      "  ret = umr_sum(arr, axis, dtype, out, keepdims)\n"
     ]
    }
   ],
   "source": [
    "# create Naive Bayes model\n",
    "start = time.time() \n",
    "\n",
    "naive_bayes_classifier = GaussianNB()\n",
    "naive_bayes_classifier.fit(x_train, y_train)\n",
    "\n",
    "end = time.time()\n",
    "process = round(end-start,2)\n",
    "print(\"Naive Bayes Classifier has fitted, this process took {} seconds\".format(process))"
   ]
  },
  {
   "cell_type": "code",
   "execution_count": 13,
   "id": "2150f2b6",
   "metadata": {},
   "outputs": [
    {
     "name": "stderr",
     "output_type": "stream",
     "text": [
      "C:\\Users\\DELL\\anaconda3\\lib\\site-packages\\numpy\\core\\fromnumeric.py:87: RuntimeWarning: overflow encountered in reduce\n",
      "  return ufunc.reduce(obj, axis, dtype, out, **passkwargs)\n",
      "C:\\Users\\DELL\\anaconda3\\lib\\site-packages\\sklearn\\naive_bayes.py:456: RuntimeWarning: invalid value encountered in true_divide\n",
      "  n_ij -= 0.5 * np.sum(((X - self.theta_[i, :]) ** 2) /\n"
     ]
    },
    {
     "data": {
      "text/plain": [
       "0.3768553459119497"
      ]
     },
     "execution_count": 13,
     "metadata": {},
     "output_type": "execute_result"
    }
   ],
   "source": [
    "# evaluate Naive Bayes model\n",
    "naive_bayes_classifier.score(x_test,y_test)"
   ]
  },
  {
   "cell_type": "markdown",
   "id": "4b3ca6d1",
   "metadata": {},
   "source": [
    "K Neighbours Classifier"
   ]
  },
  {
   "cell_type": "code",
   "execution_count": 14,
   "id": "943abad2",
   "metadata": {},
   "outputs": [
    {
     "name": "stderr",
     "output_type": "stream",
     "text": [
      "C:\\Users\\DELL\\anaconda3\\lib\\site-packages\\numpy\\core\\fromnumeric.py:87: RuntimeWarning: overflow encountered in reduce\n",
      "  return ufunc.reduce(obj, axis, dtype, out, **passkwargs)\n",
      "C:\\Users\\DELL\\anaconda3\\lib\\site-packages\\numpy\\core\\fromnumeric.py:87: RuntimeWarning: overflow encountered in reduce\n",
      "  return ufunc.reduce(obj, axis, dtype, out, **passkwargs)\n"
     ]
    },
    {
     "name": "stdout",
     "output_type": "stream",
     "text": [
      "K Neighbors Classifier has fitted, this process took 0.35 seconds\n"
     ]
    }
   ],
   "source": [
    "# create K Neighbours Classifier model\n",
    "start = time.time() \n",
    "\n",
    "k_neighbors_classifier = KNeighborsClassifier(n_neighbors=5)\n",
    "k_neighbors_classifier.fit(x_train,y_train)\n",
    "\n",
    "end = time.time()\n",
    "process = round(end-start,2)\n",
    "print(\"K Neighbors Classifier has fitted, this process took {} seconds\".format(process))"
   ]
  },
  {
   "cell_type": "code",
   "execution_count": 15,
   "id": "dd5b59b6",
   "metadata": {},
   "outputs": [
    {
     "name": "stderr",
     "output_type": "stream",
     "text": [
      "C:\\Users\\DELL\\anaconda3\\lib\\site-packages\\numpy\\core\\fromnumeric.py:87: RuntimeWarning: overflow encountered in reduce\n",
      "  return ufunc.reduce(obj, axis, dtype, out, **passkwargs)\n",
      "C:\\Users\\DELL\\anaconda3\\lib\\site-packages\\numpy\\core\\fromnumeric.py:87: RuntimeWarning: overflow encountered in reduce\n",
      "  return ufunc.reduce(obj, axis, dtype, out, **passkwargs)\n",
      "C:\\Users\\DELL\\anaconda3\\lib\\site-packages\\numpy\\core\\fromnumeric.py:87: RuntimeWarning: overflow encountered in reduce\n",
      "  return ufunc.reduce(obj, axis, dtype, out, **passkwargs)\n"
     ]
    },
    {
     "data": {
      "text/plain": [
       "0.8744654088050314"
      ]
     },
     "execution_count": 15,
     "metadata": {},
     "output_type": "execute_result"
    }
   ],
   "source": [
    "# evaluate K Neighbours Classifier model\n",
    "k_neighbors_classifier.score(x_test,y_test)"
   ]
  },
  {
   "cell_type": "markdown",
   "id": "52eb3ce7",
   "metadata": {},
   "source": [
    "Decision Trees"
   ]
  },
  {
   "cell_type": "code",
   "execution_count": 16,
   "id": "a2f34297",
   "metadata": {},
   "outputs": [
    {
     "name": "stdout",
     "output_type": "stream",
     "text": [
      "Decision Tree Classifier has fitted, this process took 0.2 seconds\n"
     ]
    }
   ],
   "source": [
    "# create Decision Trees model\n",
    "start = time.time() \n",
    "\n",
    "decision_tree_classifier = DecisionTreeClassifier()\n",
    "decision_tree_classifier.fit(np.nan_to_num(x_train.astype(np.float32)), y_train)\n",
    "\n",
    "end = time.time()\n",
    "process = round(end-start,2)\n",
    "print(\"Decision Tree Classifier has fitted, this process took {} seconds\".format(process))"
   ]
  },
  {
   "cell_type": "code",
   "execution_count": 17,
   "id": "6c40a58c",
   "metadata": {},
   "outputs": [
    {
     "data": {
      "text/plain": [
       "0.9647798742138365"
      ]
     },
     "execution_count": 17,
     "metadata": {},
     "output_type": "execute_result"
    }
   ],
   "source": [
    "# evaluate Decision Trees model\n",
    "decision_tree_classifier.score(np.nan_to_num(x_test.astype(np.float32)),y_test)"
   ]
  },
  {
   "cell_type": "code",
   "execution_count": 18,
   "id": "7718c265",
   "metadata": {},
   "outputs": [],
   "source": [
    "# make predictions using the Decision Trees model\n",
    "y_pred = decision_tree_classifier.predict(np.nan_to_num(x_test.astype(np.float32)))"
   ]
  },
  {
   "cell_type": "code",
   "execution_count": 19,
   "id": "d75cae18",
   "metadata": {},
   "outputs": [
    {
     "data": {
      "text/plain": [
       "4074.426250644662"
      ]
     },
     "execution_count": 19,
     "metadata": {},
     "output_type": "execute_result"
    }
   ],
   "source": [
    "# calculate the average number of imposter required for Decision Trees model\n",
    "avg_num_imposter_actions(y_test, y_pred)"
   ]
  }
 ],
 "metadata": {
  "kernelspec": {
   "display_name": "Python 3 (ipykernel)",
   "language": "python",
   "name": "python3"
  },
  "language_info": {
   "codemirror_mode": {
    "name": "ipython",
    "version": 3
   },
   "file_extension": ".py",
   "mimetype": "text/x-python",
   "name": "python",
   "nbconvert_exporter": "python",
   "pygments_lexer": "ipython3",
   "version": "3.8.5"
  }
 },
 "nbformat": 4,
 "nbformat_minor": 5
}
