{
 "cells": [
  {
   "cell_type": "code",
   "execution_count": 29,
   "id": "1a278f9b",
   "metadata": {},
   "outputs": [],
   "source": [
    "import numpy as np\n",
    "import pandas as pd\n",
    "import glob\n",
    "import time\n",
    "\n",
    "from sklearn.model_selection import train_test_split\n",
    "\n",
    "from sklearn.impute import SimpleImputer\n",
    "\n",
    "from sklearn.decomposition import PCA\n",
    "\n",
    "from sklearn.svm import SVC\n",
    "from sklearn.naive_bayes import GaussianNB\n",
    "from sklearn.neighbors import KNeighborsClassifier\n",
    "from sklearn.tree import DecisionTreeClassifier\n",
    "from sklearn.linear_model import LogisticRegression"
   ]
  },
  {
   "cell_type": "markdown",
   "id": "57cc825d",
   "metadata": {},
   "source": [
    "User 2"
   ]
  },
  {
   "cell_type": "code",
   "execution_count": 2,
   "id": "0b16c6b3",
   "metadata": {},
   "outputs": [],
   "source": [
    "path = r'C:\\Users\\DELL\\Documents\\Research\\Mouse Dynamics\\Dataset\\user2\\extracted' # use your path\n",
    "all_files = glob.glob(path + \"/*.csv\")\n",
    "\n",
    "li = []\n",
    "\n",
    "for filename in all_files:\n",
    "    df = pd.read_csv(filename, index_col=None, header=0)\n",
    "    li.append(df)\n",
    "\n",
    "user2_df = pd.concat(li, axis=0, ignore_index=True)"
   ]
  },
  {
   "cell_type": "code",
   "execution_count": 3,
   "id": "0249d741",
   "metadata": {},
   "outputs": [],
   "source": [
    "user2_df.drop('Unnamed: 0', axis=1, inplace=True)"
   ]
  },
  {
   "cell_type": "code",
   "execution_count": 4,
   "id": "14e8c1f6",
   "metadata": {},
   "outputs": [],
   "source": [
    "user2_df['label'] = 1"
   ]
  },
  {
   "cell_type": "code",
   "execution_count": 5,
   "id": "fb331765",
   "metadata": {},
   "outputs": [
    {
     "data": {
      "text/html": [
       "<div>\n",
       "<style scoped>\n",
       "    .dataframe tbody tr th:only-of-type {\n",
       "        vertical-align: middle;\n",
       "    }\n",
       "\n",
       "    .dataframe tbody tr th {\n",
       "        vertical-align: top;\n",
       "    }\n",
       "\n",
       "    .dataframe thead th {\n",
       "        text-align: right;\n",
       "    }\n",
       "</style>\n",
       "<table border=\"1\" class=\"dataframe\">\n",
       "  <thead>\n",
       "    <tr style=\"text-align: right;\">\n",
       "      <th></th>\n",
       "      <th>0_angles_avg</th>\n",
       "      <th>0_angles_max</th>\n",
       "      <th>0_angles_min</th>\n",
       "      <th>0_angles_range</th>\n",
       "      <th>0_angles_std</th>\n",
       "      <th>0_timestamp_delta_avg</th>\n",
       "      <th>0_timestamp_delta_max</th>\n",
       "      <th>0_timestamp_delta_min</th>\n",
       "      <th>0_timestamp_delta_std</th>\n",
       "      <th>0_timestamp_range</th>\n",
       "      <th>...</th>\n",
       "      <th>0_x_cross</th>\n",
       "      <th>0_y_cross</th>\n",
       "      <th>0_x_avg</th>\n",
       "      <th>0_x_max</th>\n",
       "      <th>0_x_min</th>\n",
       "      <th>0_x_std</th>\n",
       "      <th>0_y_avg</th>\n",
       "      <th>0_y_max</th>\n",
       "      <th>0_y_min</th>\n",
       "      <th>0_y_std</th>\n",
       "    </tr>\n",
       "  </thead>\n",
       "  <tbody>\n",
       "    <tr>\n",
       "      <th>0</th>\n",
       "      <td>0.375932</td>\n",
       "      <td>3.141593</td>\n",
       "      <td>-2.819842</td>\n",
       "      <td>5.961435</td>\n",
       "      <td>1.716353</td>\n",
       "      <td>0.008894</td>\n",
       "      <td>0.068</td>\n",
       "      <td>0.004</td>\n",
       "      <td>0.006320</td>\n",
       "      <td>0.836</td>\n",
       "      <td>...</td>\n",
       "      <td>NaN</td>\n",
       "      <td>NaN</td>\n",
       "      <td>NaN</td>\n",
       "      <td>NaN</td>\n",
       "      <td>NaN</td>\n",
       "      <td>NaN</td>\n",
       "      <td>NaN</td>\n",
       "      <td>NaN</td>\n",
       "      <td>NaN</td>\n",
       "      <td>NaN</td>\n",
       "    </tr>\n",
       "    <tr>\n",
       "      <th>1</th>\n",
       "      <td>0.652641</td>\n",
       "      <td>3.141593</td>\n",
       "      <td>-3.113822</td>\n",
       "      <td>6.255415</td>\n",
       "      <td>2.416334</td>\n",
       "      <td>0.011144</td>\n",
       "      <td>0.207</td>\n",
       "      <td>0.006</td>\n",
       "      <td>0.022188</td>\n",
       "      <td>1.549</td>\n",
       "      <td>...</td>\n",
       "      <td>NaN</td>\n",
       "      <td>NaN</td>\n",
       "      <td>NaN</td>\n",
       "      <td>NaN</td>\n",
       "      <td>NaN</td>\n",
       "      <td>NaN</td>\n",
       "      <td>NaN</td>\n",
       "      <td>NaN</td>\n",
       "      <td>NaN</td>\n",
       "      <td>NaN</td>\n",
       "    </tr>\n",
       "    <tr>\n",
       "      <th>2</th>\n",
       "      <td>0.864599</td>\n",
       "      <td>3.141593</td>\n",
       "      <td>-3.112189</td>\n",
       "      <td>6.253782</td>\n",
       "      <td>1.585547</td>\n",
       "      <td>0.016644</td>\n",
       "      <td>0.552</td>\n",
       "      <td>0.004</td>\n",
       "      <td>0.049485</td>\n",
       "      <td>3.229</td>\n",
       "      <td>...</td>\n",
       "      <td>NaN</td>\n",
       "      <td>NaN</td>\n",
       "      <td>NaN</td>\n",
       "      <td>NaN</td>\n",
       "      <td>NaN</td>\n",
       "      <td>NaN</td>\n",
       "      <td>NaN</td>\n",
       "      <td>NaN</td>\n",
       "      <td>NaN</td>\n",
       "      <td>NaN</td>\n",
       "    </tr>\n",
       "    <tr>\n",
       "      <th>3</th>\n",
       "      <td>1.020713</td>\n",
       "      <td>3.141593</td>\n",
       "      <td>-3.058451</td>\n",
       "      <td>6.200044</td>\n",
       "      <td>1.826176</td>\n",
       "      <td>0.008588</td>\n",
       "      <td>0.024</td>\n",
       "      <td>0.003</td>\n",
       "      <td>0.002876</td>\n",
       "      <td>0.584</td>\n",
       "      <td>...</td>\n",
       "      <td>NaN</td>\n",
       "      <td>NaN</td>\n",
       "      <td>NaN</td>\n",
       "      <td>NaN</td>\n",
       "      <td>NaN</td>\n",
       "      <td>NaN</td>\n",
       "      <td>NaN</td>\n",
       "      <td>NaN</td>\n",
       "      <td>NaN</td>\n",
       "      <td>NaN</td>\n",
       "    </tr>\n",
       "    <tr>\n",
       "      <th>4</th>\n",
       "      <td>0.880320</td>\n",
       "      <td>3.141593</td>\n",
       "      <td>-0.643501</td>\n",
       "      <td>3.785094</td>\n",
       "      <td>1.361805</td>\n",
       "      <td>0.010947</td>\n",
       "      <td>0.160</td>\n",
       "      <td>0.007</td>\n",
       "      <td>0.016897</td>\n",
       "      <td>1.456</td>\n",
       "      <td>...</td>\n",
       "      <td>NaN</td>\n",
       "      <td>NaN</td>\n",
       "      <td>NaN</td>\n",
       "      <td>NaN</td>\n",
       "      <td>NaN</td>\n",
       "      <td>NaN</td>\n",
       "      <td>NaN</td>\n",
       "      <td>NaN</td>\n",
       "      <td>NaN</td>\n",
       "      <td>NaN</td>\n",
       "    </tr>\n",
       "  </tbody>\n",
       "</table>\n",
       "<p>5 rows × 48 columns</p>\n",
       "</div>"
      ],
      "text/plain": [
       "   0_angles_avg  0_angles_max  0_angles_min  0_angles_range  0_angles_std  \\\n",
       "0      0.375932      3.141593     -2.819842        5.961435      1.716353   \n",
       "1      0.652641      3.141593     -3.113822        6.255415      2.416334   \n",
       "2      0.864599      3.141593     -3.112189        6.253782      1.585547   \n",
       "3      1.020713      3.141593     -3.058451        6.200044      1.826176   \n",
       "4      0.880320      3.141593     -0.643501        3.785094      1.361805   \n",
       "\n",
       "   0_timestamp_delta_avg  0_timestamp_delta_max  0_timestamp_delta_min  \\\n",
       "0               0.008894                  0.068                  0.004   \n",
       "1               0.011144                  0.207                  0.006   \n",
       "2               0.016644                  0.552                  0.004   \n",
       "3               0.008588                  0.024                  0.003   \n",
       "4               0.010947                  0.160                  0.007   \n",
       "\n",
       "   0_timestamp_delta_std  0_timestamp_range  ...  0_x_cross  0_y_cross  \\\n",
       "0               0.006320              0.836  ...        NaN        NaN   \n",
       "1               0.022188              1.549  ...        NaN        NaN   \n",
       "2               0.049485              3.229  ...        NaN        NaN   \n",
       "3               0.002876              0.584  ...        NaN        NaN   \n",
       "4               0.016897              1.456  ...        NaN        NaN   \n",
       "\n",
       "   0_x_avg  0_x_max  0_x_min  0_x_std  0_y_avg  0_y_max  0_y_min  0_y_std  \n",
       "0      NaN      NaN      NaN      NaN      NaN      NaN      NaN      NaN  \n",
       "1      NaN      NaN      NaN      NaN      NaN      NaN      NaN      NaN  \n",
       "2      NaN      NaN      NaN      NaN      NaN      NaN      NaN      NaN  \n",
       "3      NaN      NaN      NaN      NaN      NaN      NaN      NaN      NaN  \n",
       "4      NaN      NaN      NaN      NaN      NaN      NaN      NaN      NaN  \n",
       "\n",
       "[5 rows x 48 columns]"
      ]
     },
     "execution_count": 5,
     "metadata": {},
     "output_type": "execute_result"
    }
   ],
   "source": [
    "user2_df.head()"
   ]
  },
  {
   "cell_type": "code",
   "execution_count": 6,
   "id": "a737281d",
   "metadata": {},
   "outputs": [
    {
     "data": {
      "text/plain": [
       "12255"
      ]
     },
     "execution_count": 6,
     "metadata": {},
     "output_type": "execute_result"
    }
   ],
   "source": [
    "len(user2_df.index)"
   ]
  },
  {
   "cell_type": "markdown",
   "id": "d8047ac8",
   "metadata": {},
   "source": [
    "User 4"
   ]
  },
  {
   "cell_type": "code",
   "execution_count": 7,
   "id": "fefbdd37",
   "metadata": {},
   "outputs": [],
   "source": [
    "path = r'C:\\Users\\DELL\\Documents\\Research\\Mouse Dynamics\\Dataset\\user4\\extracted' # use your path\n",
    "all_files = glob.glob(path + \"/*.csv\")\n",
    "\n",
    "li = []\n",
    "\n",
    "for filename in all_files:\n",
    "    df = pd.read_csv(filename, index_col=None, header=0)\n",
    "    li.append(df)\n",
    "\n",
    "user4_df = pd.concat(li, axis=0, ignore_index=True)"
   ]
  },
  {
   "cell_type": "code",
   "execution_count": 8,
   "id": "5bf5e400",
   "metadata": {},
   "outputs": [],
   "source": [
    "user4_df.drop('Unnamed: 0', axis=1, inplace=True)"
   ]
  },
  {
   "cell_type": "code",
   "execution_count": 9,
   "id": "ae5a9285",
   "metadata": {},
   "outputs": [],
   "source": [
    "user4_df['label'] = 0"
   ]
  },
  {
   "cell_type": "code",
   "execution_count": 10,
   "id": "a6e26b5e",
   "metadata": {},
   "outputs": [
    {
     "data": {
      "text/html": [
       "<div>\n",
       "<style scoped>\n",
       "    .dataframe tbody tr th:only-of-type {\n",
       "        vertical-align: middle;\n",
       "    }\n",
       "\n",
       "    .dataframe tbody tr th {\n",
       "        vertical-align: top;\n",
       "    }\n",
       "\n",
       "    .dataframe thead th {\n",
       "        text-align: right;\n",
       "    }\n",
       "</style>\n",
       "<table border=\"1\" class=\"dataframe\">\n",
       "  <thead>\n",
       "    <tr style=\"text-align: right;\">\n",
       "      <th></th>\n",
       "      <th>0_angles_avg</th>\n",
       "      <th>0_angles_max</th>\n",
       "      <th>0_angles_min</th>\n",
       "      <th>0_angles_range</th>\n",
       "      <th>0_angles_std</th>\n",
       "      <th>0_timestamp_delta_avg</th>\n",
       "      <th>0_timestamp_delta_max</th>\n",
       "      <th>0_timestamp_delta_min</th>\n",
       "      <th>0_timestamp_delta_std</th>\n",
       "      <th>0_timestamp_range</th>\n",
       "      <th>...</th>\n",
       "      <th>0_x_cross</th>\n",
       "      <th>0_y_cross</th>\n",
       "      <th>0_x_avg</th>\n",
       "      <th>0_x_max</th>\n",
       "      <th>0_x_min</th>\n",
       "      <th>0_x_std</th>\n",
       "      <th>0_y_avg</th>\n",
       "      <th>0_y_max</th>\n",
       "      <th>0_y_min</th>\n",
       "      <th>0_y_std</th>\n",
       "    </tr>\n",
       "  </thead>\n",
       "  <tbody>\n",
       "    <tr>\n",
       "      <th>0</th>\n",
       "      <td>0.526008</td>\n",
       "      <td>3.141593</td>\n",
       "      <td>-3.064821</td>\n",
       "      <td>6.206413</td>\n",
       "      <td>2.023960</td>\n",
       "      <td>0.013339</td>\n",
       "      <td>0.466</td>\n",
       "      <td>0.004</td>\n",
       "      <td>0.032697</td>\n",
       "      <td>5.776</td>\n",
       "      <td>...</td>\n",
       "      <td>NaN</td>\n",
       "      <td>NaN</td>\n",
       "      <td>NaN</td>\n",
       "      <td>NaN</td>\n",
       "      <td>NaN</td>\n",
       "      <td>NaN</td>\n",
       "      <td>NaN</td>\n",
       "      <td>NaN</td>\n",
       "      <td>NaN</td>\n",
       "      <td>NaN</td>\n",
       "    </tr>\n",
       "    <tr>\n",
       "      <th>1</th>\n",
       "      <td>0.057186</td>\n",
       "      <td>3.141593</td>\n",
       "      <td>-2.356194</td>\n",
       "      <td>5.497787</td>\n",
       "      <td>1.209327</td>\n",
       "      <td>0.043711</td>\n",
       "      <td>3.364</td>\n",
       "      <td>0.005</td>\n",
       "      <td>0.338945</td>\n",
       "      <td>4.240</td>\n",
       "      <td>...</td>\n",
       "      <td>NaN</td>\n",
       "      <td>NaN</td>\n",
       "      <td>NaN</td>\n",
       "      <td>NaN</td>\n",
       "      <td>NaN</td>\n",
       "      <td>NaN</td>\n",
       "      <td>NaN</td>\n",
       "      <td>NaN</td>\n",
       "      <td>NaN</td>\n",
       "      <td>NaN</td>\n",
       "    </tr>\n",
       "    <tr>\n",
       "      <th>2</th>\n",
       "      <td>0.986518</td>\n",
       "      <td>3.141593</td>\n",
       "      <td>-2.944197</td>\n",
       "      <td>6.085790</td>\n",
       "      <td>1.910932</td>\n",
       "      <td>0.010346</td>\n",
       "      <td>0.119</td>\n",
       "      <td>0.005</td>\n",
       "      <td>0.014480</td>\n",
       "      <td>1.345</td>\n",
       "      <td>...</td>\n",
       "      <td>NaN</td>\n",
       "      <td>NaN</td>\n",
       "      <td>NaN</td>\n",
       "      <td>NaN</td>\n",
       "      <td>NaN</td>\n",
       "      <td>NaN</td>\n",
       "      <td>NaN</td>\n",
       "      <td>NaN</td>\n",
       "      <td>NaN</td>\n",
       "      <td>NaN</td>\n",
       "    </tr>\n",
       "    <tr>\n",
       "      <th>3</th>\n",
       "      <td>0.281195</td>\n",
       "      <td>3.141593</td>\n",
       "      <td>-3.030935</td>\n",
       "      <td>6.172528</td>\n",
       "      <td>1.762196</td>\n",
       "      <td>0.016715</td>\n",
       "      <td>0.887</td>\n",
       "      <td>0.002</td>\n",
       "      <td>0.047410</td>\n",
       "      <td>26.326</td>\n",
       "      <td>...</td>\n",
       "      <td>NaN</td>\n",
       "      <td>NaN</td>\n",
       "      <td>NaN</td>\n",
       "      <td>NaN</td>\n",
       "      <td>NaN</td>\n",
       "      <td>NaN</td>\n",
       "      <td>NaN</td>\n",
       "      <td>NaN</td>\n",
       "      <td>NaN</td>\n",
       "      <td>NaN</td>\n",
       "    </tr>\n",
       "    <tr>\n",
       "      <th>4</th>\n",
       "      <td>0.032363</td>\n",
       "      <td>3.141593</td>\n",
       "      <td>-3.096169</td>\n",
       "      <td>6.237762</td>\n",
       "      <td>1.646749</td>\n",
       "      <td>0.009777</td>\n",
       "      <td>0.119</td>\n",
       "      <td>0.005</td>\n",
       "      <td>0.012868</td>\n",
       "      <td>0.919</td>\n",
       "      <td>...</td>\n",
       "      <td>NaN</td>\n",
       "      <td>NaN</td>\n",
       "      <td>NaN</td>\n",
       "      <td>NaN</td>\n",
       "      <td>NaN</td>\n",
       "      <td>NaN</td>\n",
       "      <td>NaN</td>\n",
       "      <td>NaN</td>\n",
       "      <td>NaN</td>\n",
       "      <td>NaN</td>\n",
       "    </tr>\n",
       "  </tbody>\n",
       "</table>\n",
       "<p>5 rows × 48 columns</p>\n",
       "</div>"
      ],
      "text/plain": [
       "   0_angles_avg  0_angles_max  0_angles_min  0_angles_range  0_angles_std  \\\n",
       "0      0.526008      3.141593     -3.064821        6.206413      2.023960   \n",
       "1      0.057186      3.141593     -2.356194        5.497787      1.209327   \n",
       "2      0.986518      3.141593     -2.944197        6.085790      1.910932   \n",
       "3      0.281195      3.141593     -3.030935        6.172528      1.762196   \n",
       "4      0.032363      3.141593     -3.096169        6.237762      1.646749   \n",
       "\n",
       "   0_timestamp_delta_avg  0_timestamp_delta_max  0_timestamp_delta_min  \\\n",
       "0               0.013339                  0.466                  0.004   \n",
       "1               0.043711                  3.364                  0.005   \n",
       "2               0.010346                  0.119                  0.005   \n",
       "3               0.016715                  0.887                  0.002   \n",
       "4               0.009777                  0.119                  0.005   \n",
       "\n",
       "   0_timestamp_delta_std  0_timestamp_range  ...  0_x_cross  0_y_cross  \\\n",
       "0               0.032697              5.776  ...        NaN        NaN   \n",
       "1               0.338945              4.240  ...        NaN        NaN   \n",
       "2               0.014480              1.345  ...        NaN        NaN   \n",
       "3               0.047410             26.326  ...        NaN        NaN   \n",
       "4               0.012868              0.919  ...        NaN        NaN   \n",
       "\n",
       "   0_x_avg  0_x_max  0_x_min  0_x_std  0_y_avg  0_y_max  0_y_min  0_y_std  \n",
       "0      NaN      NaN      NaN      NaN      NaN      NaN      NaN      NaN  \n",
       "1      NaN      NaN      NaN      NaN      NaN      NaN      NaN      NaN  \n",
       "2      NaN      NaN      NaN      NaN      NaN      NaN      NaN      NaN  \n",
       "3      NaN      NaN      NaN      NaN      NaN      NaN      NaN      NaN  \n",
       "4      NaN      NaN      NaN      NaN      NaN      NaN      NaN      NaN  \n",
       "\n",
       "[5 rows x 48 columns]"
      ]
     },
     "execution_count": 10,
     "metadata": {},
     "output_type": "execute_result"
    }
   ],
   "source": [
    "user4_df.head()"
   ]
  },
  {
   "cell_type": "code",
   "execution_count": 11,
   "id": "3bd5aba8",
   "metadata": {},
   "outputs": [
    {
     "data": {
      "text/plain": [
       "7616"
      ]
     },
     "execution_count": 11,
     "metadata": {},
     "output_type": "execute_result"
    }
   ],
   "source": [
    "len(user4_df.index)"
   ]
  },
  {
   "cell_type": "markdown",
   "id": "b1282376",
   "metadata": {},
   "source": [
    "ML"
   ]
  },
  {
   "cell_type": "code",
   "execution_count": 37,
   "id": "a2d50e80",
   "metadata": {},
   "outputs": [],
   "source": [
    "df = pd.concat([user2_df, user4_df], axis=0, ignore_index=True)"
   ]
  },
  {
   "cell_type": "code",
   "execution_count": 38,
   "id": "38bdbf4a",
   "metadata": {},
   "outputs": [],
   "source": [
    "# imp = SimpleImputer(missing_values='NaN', strategy='median')\n",
    "# df = imp.fit_transform(df)"
   ]
  },
  {
   "cell_type": "code",
   "execution_count": 39,
   "id": "f9b64ecc",
   "metadata": {},
   "outputs": [],
   "source": [
    "x_train, x_test, y_train, y_test = train_test_split(np.nan_to_num(df.loc[:, df.columns != 'label']), df['label'] ,test_size=0.2, random_state=42)"
   ]
  },
  {
   "cell_type": "markdown",
   "id": "9ad75007",
   "metadata": {},
   "source": [
    "Logistic Regression"
   ]
  },
  {
   "cell_type": "code",
   "execution_count": 58,
   "id": "094e72b6",
   "metadata": {},
   "outputs": [
    {
     "name": "stdout",
     "output_type": "stream",
     "text": [
      "Logistic Regression Classifier has fitted, this process took 0.09 seconds\n"
     ]
    },
    {
     "name": "stderr",
     "output_type": "stream",
     "text": [
      "C:\\Users\\DELL\\anaconda3\\lib\\site-packages\\sklearn\\linear_model\\_logistic.py:762: ConvergenceWarning: lbfgs failed to converge (status=2):\n",
      "ABNORMAL_TERMINATION_IN_LNSRCH.\n",
      "\n",
      "Increase the number of iterations (max_iter) or scale the data as shown in:\n",
      "    https://scikit-learn.org/stable/modules/preprocessing.html\n",
      "Please also refer to the documentation for alternative solver options:\n",
      "    https://scikit-learn.org/stable/modules/linear_model.html#logistic-regression\n",
      "  n_iter_i = _check_optimize_result(\n"
     ]
    }
   ],
   "source": [
    "start = time.time() \n",
    "\n",
    "logistic_regression_classifier = LogisticRegression()\n",
    "logistic_regression_classifier.fit(np.nan_to_num(x_train.astype(np.float32)) ,y_train)\n",
    "\n",
    "end = time.time()\n",
    "process = round(end-start,2)\n",
    "print(\"Logistic Regression Classifier has fitted, this process took {} seconds\".format(process))"
   ]
  },
  {
   "cell_type": "code",
   "execution_count": 59,
   "id": "1ae97d5c",
   "metadata": {},
   "outputs": [
    {
     "data": {
      "text/plain": [
       "0.3768553459119497"
      ]
     },
     "execution_count": 59,
     "metadata": {},
     "output_type": "execute_result"
    }
   ],
   "source": [
    "logistic_regression_classifier.score(np.nan_to_num(x_test.astype(np.float32)), y_test)"
   ]
  },
  {
   "cell_type": "markdown",
   "id": "e5eed7c5",
   "metadata": {},
   "source": [
    "SVM"
   ]
  },
  {
   "cell_type": "code",
   "execution_count": 40,
   "id": "8a1a84f9",
   "metadata": {},
   "outputs": [
    {
     "name": "stderr",
     "output_type": "stream",
     "text": [
      "C:\\Users\\DELL\\anaconda3\\lib\\site-packages\\numpy\\core\\fromnumeric.py:87: RuntimeWarning: overflow encountered in reduce\n",
      "  return ufunc.reduce(obj, axis, dtype, out, **passkwargs)\n",
      "C:\\Users\\DELL\\anaconda3\\lib\\site-packages\\numpy\\core\\_methods.py:192: RuntimeWarning: overflow encountered in reduce\n",
      "  arrmean = umr_sum(arr, axis, dtype, keepdims=True)\n"
     ]
    },
    {
     "name": "stdout",
     "output_type": "stream",
     "text": [
      "Support Vector Machine Classifier has fitted, this process took 29.79 seconds\n"
     ]
    }
   ],
   "source": [
    "start = time.time() \n",
    "\n",
    "svm_classifier = SVC()\n",
    "svm_classifier.fit(x_train,y_train)\n",
    "\n",
    "end = time.time()\n",
    "process = round(end-start,2)\n",
    "print(\"Support Vector Machine Classifier has fitted, this process took {} seconds\".format(process))"
   ]
  },
  {
   "cell_type": "code",
   "execution_count": 41,
   "id": "e4be795c",
   "metadata": {},
   "outputs": [
    {
     "name": "stderr",
     "output_type": "stream",
     "text": [
      "C:\\Users\\DELL\\anaconda3\\lib\\site-packages\\numpy\\core\\fromnumeric.py:87: RuntimeWarning: overflow encountered in reduce\n",
      "  return ufunc.reduce(obj, axis, dtype, out, **passkwargs)\n"
     ]
    },
    {
     "data": {
      "text/plain": [
       "0.6231446540880503"
      ]
     },
     "execution_count": 41,
     "metadata": {},
     "output_type": "execute_result"
    }
   ],
   "source": [
    "svm_classifier.score(x_test,y_test)"
   ]
  },
  {
   "cell_type": "markdown",
   "id": "08b4b0a6",
   "metadata": {},
   "source": [
    "Naive Bayes"
   ]
  },
  {
   "cell_type": "code",
   "execution_count": 42,
   "id": "aa6aec5b",
   "metadata": {},
   "outputs": [
    {
     "name": "stdout",
     "output_type": "stream",
     "text": [
      "Naive Bayes Classifier has fitted, this process took 0.03 seconds\n"
     ]
    },
    {
     "name": "stderr",
     "output_type": "stream",
     "text": [
      "C:\\Users\\DELL\\anaconda3\\lib\\site-packages\\numpy\\core\\fromnumeric.py:87: RuntimeWarning: overflow encountered in reduce\n",
      "  return ufunc.reduce(obj, axis, dtype, out, **passkwargs)\n",
      "C:\\Users\\DELL\\anaconda3\\lib\\site-packages\\numpy\\core\\fromnumeric.py:87: RuntimeWarning: overflow encountered in reduce\n",
      "  return ufunc.reduce(obj, axis, dtype, out, **passkwargs)\n",
      "C:\\Users\\DELL\\anaconda3\\lib\\site-packages\\numpy\\core\\_methods.py:192: RuntimeWarning: overflow encountered in reduce\n",
      "  arrmean = umr_sum(arr, axis, dtype, keepdims=True)\n",
      "C:\\Users\\DELL\\anaconda3\\lib\\site-packages\\numpy\\core\\_methods.py:160: RuntimeWarning: overflow encountered in reduce\n",
      "  ret = umr_sum(arr, axis, dtype, out, keepdims)\n"
     ]
    }
   ],
   "source": [
    "start = time.time() \n",
    "\n",
    "naive_bayes_classifier = GaussianNB()\n",
    "naive_bayes_classifier.fit(x_train, y_train)\n",
    "\n",
    "end = time.time()\n",
    "process = round(end-start,2)\n",
    "print(\"Naive Bayes Classifier has fitted, this process took {} seconds\".format(process))"
   ]
  },
  {
   "cell_type": "code",
   "execution_count": 43,
   "id": "2150f2b6",
   "metadata": {},
   "outputs": [
    {
     "name": "stderr",
     "output_type": "stream",
     "text": [
      "C:\\Users\\DELL\\anaconda3\\lib\\site-packages\\numpy\\core\\fromnumeric.py:87: RuntimeWarning: overflow encountered in reduce\n",
      "  return ufunc.reduce(obj, axis, dtype, out, **passkwargs)\n",
      "C:\\Users\\DELL\\anaconda3\\lib\\site-packages\\sklearn\\naive_bayes.py:456: RuntimeWarning: invalid value encountered in true_divide\n",
      "  n_ij -= 0.5 * np.sum(((X - self.theta_[i, :]) ** 2) /\n"
     ]
    },
    {
     "data": {
      "text/plain": [
       "0.3768553459119497"
      ]
     },
     "execution_count": 43,
     "metadata": {},
     "output_type": "execute_result"
    }
   ],
   "source": [
    "naive_bayes_classifier.score(x_test,y_test)"
   ]
  },
  {
   "cell_type": "markdown",
   "id": "4b3ca6d1",
   "metadata": {},
   "source": [
    "K Neighbours"
   ]
  },
  {
   "cell_type": "code",
   "execution_count": 51,
   "id": "943abad2",
   "metadata": {},
   "outputs": [
    {
     "name": "stderr",
     "output_type": "stream",
     "text": [
      "C:\\Users\\DELL\\anaconda3\\lib\\site-packages\\numpy\\core\\fromnumeric.py:87: RuntimeWarning: overflow encountered in reduce\n",
      "  return ufunc.reduce(obj, axis, dtype, out, **passkwargs)\n",
      "C:\\Users\\DELL\\anaconda3\\lib\\site-packages\\numpy\\core\\fromnumeric.py:87: RuntimeWarning: overflow encountered in reduce\n",
      "  return ufunc.reduce(obj, axis, dtype, out, **passkwargs)\n"
     ]
    },
    {
     "name": "stdout",
     "output_type": "stream",
     "text": [
      "K Neighbors Classifier has fitted, this process took 0.73 seconds\n"
     ]
    }
   ],
   "source": [
    "start = time.time() \n",
    "\n",
    "k_neighbors_classifier = KNeighborsClassifier(n_neighbors=5)\n",
    "k_neighbors_classifier.fit(x_train,y_train)\n",
    "\n",
    "end = time.time()\n",
    "process = round(end-start,2)\n",
    "print(\"K Neighbors Classifier has fitted, this process took {} seconds\".format(process))"
   ]
  },
  {
   "cell_type": "code",
   "execution_count": 52,
   "id": "dd5b59b6",
   "metadata": {},
   "outputs": [
    {
     "name": "stderr",
     "output_type": "stream",
     "text": [
      "C:\\Users\\DELL\\anaconda3\\lib\\site-packages\\numpy\\core\\fromnumeric.py:87: RuntimeWarning: overflow encountered in reduce\n",
      "  return ufunc.reduce(obj, axis, dtype, out, **passkwargs)\n",
      "C:\\Users\\DELL\\anaconda3\\lib\\site-packages\\numpy\\core\\fromnumeric.py:87: RuntimeWarning: overflow encountered in reduce\n",
      "  return ufunc.reduce(obj, axis, dtype, out, **passkwargs)\n",
      "C:\\Users\\DELL\\anaconda3\\lib\\site-packages\\numpy\\core\\fromnumeric.py:87: RuntimeWarning: overflow encountered in reduce\n",
      "  return ufunc.reduce(obj, axis, dtype, out, **passkwargs)\n"
     ]
    },
    {
     "data": {
      "text/plain": [
       "0.8744654088050314"
      ]
     },
     "execution_count": 52,
     "metadata": {},
     "output_type": "execute_result"
    }
   ],
   "source": [
    "k_neighbors_classifier.score(x_test,y_test)"
   ]
  },
  {
   "cell_type": "markdown",
   "id": "52eb3ce7",
   "metadata": {},
   "source": [
    "Decision Trees"
   ]
  },
  {
   "cell_type": "code",
   "execution_count": 53,
   "id": "5d389b65",
   "metadata": {},
   "outputs": [
    {
     "data": {
      "text/plain": [
       "array([[-1.54255035,  3.14159265, -2.76434359, ...,  0.        ,\n",
       "         0.        ,  0.        ],\n",
       "       [-0.02440251,  0.        , -0.46364761, ...,  0.        ,\n",
       "         0.        ,  0.        ],\n",
       "       [ 0.39817114,  3.14159265, -2.9996956 , ...,  0.        ,\n",
       "         0.        ,  0.        ],\n",
       "       ...,\n",
       "       [-0.22636602,  3.14159265, -3.10315006, ...,  0.        ,\n",
       "         0.        ,  0.        ],\n",
       "       [-0.04860676,  3.14159265, -2.65469342, ...,  0.        ,\n",
       "         0.        ,  0.        ],\n",
       "       [ 0.        ,  0.        ,  0.        , ...,  0.        ,\n",
       "         0.        ,  0.        ]])"
      ]
     },
     "execution_count": 53,
     "metadata": {},
     "output_type": "execute_result"
    }
   ],
   "source": [
    "x_train"
   ]
  },
  {
   "cell_type": "code",
   "execution_count": 54,
   "id": "a2f34297",
   "metadata": {},
   "outputs": [
    {
     "name": "stdout",
     "output_type": "stream",
     "text": [
      "Decision Tree Classifier has fitted, this process took 0.37 seconds\n"
     ]
    }
   ],
   "source": [
    "start = time.time() \n",
    "\n",
    "decision_tree_classifier = DecisionTreeClassifier()\n",
    "decision_tree_classifier.fit(np.nan_to_num(x_train.astype(np.float32)), y_train)\n",
    "\n",
    "end = time.time()\n",
    "process = round(end-start,2)\n",
    "print(\"Decision Tree Classifier has fitted, this process took {} seconds\".format(process))"
   ]
  },
  {
   "cell_type": "code",
   "execution_count": 56,
   "id": "6c40a58c",
   "metadata": {},
   "outputs": [
    {
     "data": {
      "text/plain": [
       "0.9645283018867925"
      ]
     },
     "execution_count": 56,
     "metadata": {},
     "output_type": "execute_result"
    }
   ],
   "source": [
    "decision_tree_classifier.score(np.nan_to_num(x_test.astype(np.float32)),y_test)"
   ]
  }
 ],
 "metadata": {
  "kernelspec": {
   "display_name": "Python 3 (ipykernel)",
   "language": "python",
   "name": "python3"
  },
  "language_info": {
   "codemirror_mode": {
    "name": "ipython",
    "version": 3
   },
   "file_extension": ".py",
   "mimetype": "text/x-python",
   "name": "python",
   "nbconvert_exporter": "python",
   "pygments_lexer": "ipython3",
   "version": "3.8.5"
  }
 },
 "nbformat": 4,
 "nbformat_minor": 5
}
