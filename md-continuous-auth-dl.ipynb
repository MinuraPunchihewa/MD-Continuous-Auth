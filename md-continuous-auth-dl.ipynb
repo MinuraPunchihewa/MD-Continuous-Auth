{
  "nbformat": 4,
  "nbformat_minor": 0,
  "metadata": {
    "colab": {
      "name": "md-continuous-auth-dl.ipynb",
      "provenance": []
    },
    "kernelspec": {
      "name": "python3",
      "display_name": "Python 3"
    },
    "language_info": {
      "name": "python"
    }
  },
  "cells": [
    {
      "cell_type": "code",
      "execution_count": 1,
      "metadata": {
        "id": "SfwCqLaRKS3H"
      },
      "outputs": [],
      "source": [
        "import numpy as np\n",
        "import pandas as pd\n",
        "import glob\n",
        "import time\n",
        "\n",
        "import tensorflow as tf\n",
        "\n",
        "from sklearn.model_selection import train_test_split\n",
        "from sklearn.preprocessing import StandardScaler\n",
        "\n",
        "from keras.models import Sequential\n",
        "from keras.layers import Dense, Conv1D, Flatten, MaxPooling1D"
      ]
    },
    {
      "cell_type": "code",
      "source": [
        "def extract_data_from_path(folder_path, label):\n",
        "    \"\"\"extracts data from a set of CSV files into one DataFrame\"\"\"\n",
        "    \n",
        "    # get path to all files\n",
        "    all_files = glob.glob(folder_path + \"/*.csv\")\n",
        "    \n",
        "    # read each file into a DataFrame\n",
        "    li = []\n",
        "    for filename in all_files:\n",
        "        df = pd.read_csv(filename, index_col=None, header=0)\n",
        "        li.append(df)\n",
        "    \n",
        "    # concatenate all DataFrames\n",
        "    concat_df = pd.concat(li, axis=0, ignore_index=True)\n",
        "    \n",
        "    # remove unncessary column\n",
        "    concat_df.drop('Unnamed: 0', axis=1, inplace=True)\n",
        "    \n",
        "    # add the label to the DataFrame\n",
        "    concat_df['label'] = label\n",
        "    \n",
        "    return concat_df"
      ],
      "metadata": {
        "id": "7AkVyejE_bvs"
      },
      "execution_count": 2,
      "outputs": []
    },
    {
      "cell_type": "code",
      "source": [
        "def avg_num_imposter_actions(y_test, y_pred):\n",
        "    \"\"\"calculates the average number of actions required to identiy an imposter\"\"\"\n",
        "    \n",
        "    tn, fp, fn, tp = confusion_matrix(y_test, y_pred).ravel()\n",
        "    ta = y_test.size\n",
        "    return ta / (1 - (fp / ta))"
      ],
      "metadata": {
        "id": "b_7AMdpF_djS"
      },
      "execution_count": 3,
      "outputs": []
    },
    {
      "cell_type": "markdown",
      "source": [
        "User 2"
      ],
      "metadata": {
        "id": "MuFCqt3mpwgF"
      }
    },
    {
      "cell_type": "code",
      "source": [
        "# extract data for user 2\n",
        "user2_df = extract_data_from_path(r'/content/drive/MyDrive/Mouse-Dynamics/Dataset/user2/extracted', 1)"
      ],
      "metadata": {
        "id": "tY7KYC2LpnjC"
      },
      "execution_count": 4,
      "outputs": []
    },
    {
      "cell_type": "markdown",
      "source": [
        "User 4"
      ],
      "metadata": {
        "id": "SD8wIGrYqCjr"
      }
    },
    {
      "cell_type": "code",
      "source": [
        "# extract data for user 4\n",
        "user4_df = extract_data_from_path(r'/content/drive/MyDrive/Mouse-Dynamics/Dataset/user4/extracted', 0)"
      ],
      "metadata": {
        "id": "HeXgDy1o_sbA"
      },
      "execution_count": 5,
      "outputs": []
    },
    {
      "cell_type": "markdown",
      "source": [
        "DL"
      ],
      "metadata": {
        "id": "X2MpUw4a_z__"
      }
    },
    {
      "cell_type": "code",
      "source": [
        "# concatenate DataFrames into one\n",
        "df = pd.concat([user2_df, user4_df], axis=0, ignore_index=True)"
      ],
      "metadata": {
        "id": "E739QV61qMGi"
      },
      "execution_count": 6,
      "outputs": []
    },
    {
      "cell_type": "code",
      "source": [
        "# split data into train and test sets\n",
        "x_train, x_test, y_train, y_test = train_test_split(np.nan_to_num(df.loc[:, df.columns != 'label']), df['label'] ,test_size=0.2, random_state=42)"
      ],
      "metadata": {
        "id": "Pc_lnSGlqSTr"
      },
      "execution_count": 7,
      "outputs": []
    },
    {
      "cell_type": "code",
      "source": [
        "# scale the datasets\n",
        "scaler = StandardScaler()\n",
        "x_train_scaled = scaler.fit_transform(x_train)\n",
        "x_test_scaled = scaler.transform(x_test)"
      ],
      "metadata": {
        "colab": {
          "base_uri": "https://localhost:8080/"
        },
        "id": "6LrAxrQjsAFY",
        "outputId": "e3180fbe-3bd8-402d-d0aa-d0388dfae806"
      },
      "execution_count": 8,
      "outputs": [
        {
          "output_type": "stream",
          "name": "stderr",
          "text": [
            "/usr/local/lib/python3.7/dist-packages/numpy/core/fromnumeric.py:86: RuntimeWarning: overflow encountered in reduce\n",
            "  return ufunc.reduce(obj, axis, dtype, out, **passkwargs)\n",
            "/usr/local/lib/python3.7/dist-packages/sklearn/utils/extmath.py:1020: RuntimeWarning: invalid value encountered in subtract\n",
            "  new_unnormalized_variance -= correction ** 2 / new_sample_count\n",
            "/usr/local/lib/python3.7/dist-packages/numpy/core/fromnumeric.py:86: RuntimeWarning: overflow encountered in reduce\n",
            "  return ufunc.reduce(obj, axis, dtype, out, **passkwargs)\n",
            "/usr/local/lib/python3.7/dist-packages/numpy/core/fromnumeric.py:86: RuntimeWarning: overflow encountered in reduce\n",
            "  return ufunc.reduce(obj, axis, dtype, out, **passkwargs)\n"
          ]
        }
      ]
    },
    {
      "cell_type": "code",
      "source": [
        "# build the model\n",
        "model = Sequential([\n",
        "    Dense(16, activation='relu'),\n",
        "    Dense(32, activation='relu'),\n",
        "    Dense(32, activation='relu'),\n",
        "    Dense(1, activation='sigmoid')\n",
        "])"
      ],
      "metadata": {
        "id": "f74yujOoKfx2"
      },
      "execution_count": 9,
      "outputs": []
    },
    {
      "cell_type": "code",
      "source": [
        "# define the optimizer\n",
        "optimizer=tf.keras.optimizers.Adam(lr=0.01)\n",
        "# compile the model\n",
        "model.compile(loss='binary_crossentropy', optimizer=optimizer, metrics=['accuracy'])"
      ],
      "metadata": {
        "colab": {
          "base_uri": "https://localhost:8080/"
        },
        "id": "3NR8hkPiuuUb",
        "outputId": "360cf6f3-07ff-43c0-b62b-7d5303c22479"
      },
      "execution_count": 10,
      "outputs": [
        {
          "output_type": "stream",
          "name": "stderr",
          "text": [
            "/usr/local/lib/python3.7/dist-packages/keras/optimizer_v2/adam.py:105: UserWarning: The `lr` argument is deprecated, use `learning_rate` instead.\n",
            "  super(Adam, self).__init__(name, **kwargs)\n"
          ]
        }
      ]
    },
    {
      "cell_type": "code",
      "source": [
        "# define the number of epochs\n",
        "epochs = 50\n",
        "# fit the model to the data\n",
        "model.fit(np.nan_to_num(x_train_scaled.astype(np.float32)), y_train, epochs=epochs, verbose=1)"
      ],
      "metadata": {
        "id": "0zw9-V5FKzUj",
        "colab": {
          "base_uri": "https://localhost:8080/"
        },
        "outputId": "75e42d00-77c0-409a-9310-6a9cb45ff375"
      },
      "execution_count": 11,
      "outputs": [
        {
          "output_type": "stream",
          "name": "stdout",
          "text": [
            "Epoch 1/50\n",
            "497/497 [==============================] - 2s 3ms/step - loss: 0.5970 - accuracy: 0.6622\n",
            "Epoch 2/50\n",
            "497/497 [==============================] - 2s 4ms/step - loss: 0.5430 - accuracy: 0.7041\n",
            "Epoch 3/50\n",
            "497/497 [==============================] - 2s 3ms/step - loss: 0.5202 - accuracy: 0.7158\n",
            "Epoch 4/50\n",
            "497/497 [==============================] - 2s 4ms/step - loss: 0.4955 - accuracy: 0.7280\n",
            "Epoch 5/50\n",
            "497/497 [==============================] - 2s 3ms/step - loss: 0.4883 - accuracy: 0.7338\n",
            "Epoch 6/50\n",
            "497/497 [==============================] - 2s 5ms/step - loss: 0.4752 - accuracy: 0.7341\n",
            "Epoch 7/50\n",
            "497/497 [==============================] - 2s 4ms/step - loss: 0.4664 - accuracy: 0.7392\n",
            "Epoch 8/50\n",
            "497/497 [==============================] - 2s 4ms/step - loss: 0.4564 - accuracy: 0.7443\n",
            "Epoch 9/50\n",
            "497/497 [==============================] - 2s 5ms/step - loss: 0.4509 - accuracy: 0.7462\n",
            "Epoch 10/50\n",
            "497/497 [==============================] - 2s 4ms/step - loss: 0.4579 - accuracy: 0.7490\n",
            "Epoch 11/50\n",
            "497/497 [==============================] - 2s 4ms/step - loss: 0.4460 - accuracy: 0.7505\n",
            "Epoch 12/50\n",
            "497/497 [==============================] - 2s 4ms/step - loss: 0.4408 - accuracy: 0.7531\n",
            "Epoch 13/50\n",
            "497/497 [==============================] - 2s 4ms/step - loss: 0.4328 - accuracy: 0.7573\n",
            "Epoch 14/50\n",
            "497/497 [==============================] - 2s 5ms/step - loss: 0.4375 - accuracy: 0.7596\n",
            "Epoch 15/50\n",
            "497/497 [==============================] - 1s 3ms/step - loss: 0.4344 - accuracy: 0.7584\n",
            "Epoch 16/50\n",
            "497/497 [==============================] - 1s 2ms/step - loss: 0.4237 - accuracy: 0.7653\n",
            "Epoch 17/50\n",
            "497/497 [==============================] - 1s 2ms/step - loss: 0.4226 - accuracy: 0.7675\n",
            "Epoch 18/50\n",
            "497/497 [==============================] - 1s 2ms/step - loss: 0.4159 - accuracy: 0.7658\n",
            "Epoch 19/50\n",
            "497/497 [==============================] - 1s 2ms/step - loss: 0.4461 - accuracy: 0.7707\n",
            "Epoch 20/50\n",
            "497/497 [==============================] - 1s 2ms/step - loss: 0.4124 - accuracy: 0.7700\n",
            "Epoch 21/50\n",
            "497/497 [==============================] - 1s 2ms/step - loss: 0.4093 - accuracy: 0.7762\n",
            "Epoch 22/50\n",
            "497/497 [==============================] - 1s 2ms/step - loss: 0.4059 - accuracy: 0.7757\n",
            "Epoch 23/50\n",
            "497/497 [==============================] - 1s 2ms/step - loss: 0.4064 - accuracy: 0.7733\n",
            "Epoch 24/50\n",
            "497/497 [==============================] - 1s 2ms/step - loss: 0.4008 - accuracy: 0.7768\n",
            "Epoch 25/50\n",
            "497/497 [==============================] - 1s 2ms/step - loss: 0.3987 - accuracy: 0.7757\n",
            "Epoch 26/50\n",
            "497/497 [==============================] - 1s 2ms/step - loss: 0.3918 - accuracy: 0.7804\n",
            "Epoch 27/50\n",
            "497/497 [==============================] - 1s 2ms/step - loss: 0.3936 - accuracy: 0.7789\n",
            "Epoch 28/50\n",
            "497/497 [==============================] - 1s 2ms/step - loss: 0.4039 - accuracy: 0.7735\n",
            "Epoch 29/50\n",
            "497/497 [==============================] - 1s 2ms/step - loss: 0.3974 - accuracy: 0.7806\n",
            "Epoch 30/50\n",
            "497/497 [==============================] - 1s 2ms/step - loss: 0.3955 - accuracy: 0.7783\n",
            "Epoch 31/50\n",
            "497/497 [==============================] - 1s 2ms/step - loss: 0.3902 - accuracy: 0.7793\n",
            "Epoch 32/50\n",
            "497/497 [==============================] - 1s 2ms/step - loss: 0.3824 - accuracy: 0.7850\n",
            "Epoch 33/50\n",
            "497/497 [==============================] - 1s 2ms/step - loss: 0.3797 - accuracy: 0.7871\n",
            "Epoch 34/50\n",
            "497/497 [==============================] - 1s 2ms/step - loss: 0.3897 - accuracy: 0.7821\n",
            "Epoch 35/50\n",
            "497/497 [==============================] - 1s 2ms/step - loss: 0.3813 - accuracy: 0.7859\n",
            "Epoch 36/50\n",
            "497/497 [==============================] - 1s 2ms/step - loss: 0.3833 - accuracy: 0.7882\n",
            "Epoch 37/50\n",
            "497/497 [==============================] - 1s 2ms/step - loss: 0.3769 - accuracy: 0.7894\n",
            "Epoch 38/50\n",
            "497/497 [==============================] - 1s 2ms/step - loss: 0.3983 - accuracy: 0.7825\n",
            "Epoch 39/50\n",
            "497/497 [==============================] - 1s 2ms/step - loss: 0.3826 - accuracy: 0.7852\n",
            "Epoch 40/50\n",
            "497/497 [==============================] - 1s 2ms/step - loss: 0.3730 - accuracy: 0.7902\n",
            "Epoch 41/50\n",
            "497/497 [==============================] - 1s 2ms/step - loss: 0.3772 - accuracy: 0.7891\n",
            "Epoch 42/50\n",
            "497/497 [==============================] - 1s 2ms/step - loss: 0.3792 - accuracy: 0.7886\n",
            "Epoch 43/50\n",
            "497/497 [==============================] - 1s 2ms/step - loss: 0.3660 - accuracy: 0.7927\n",
            "Epoch 44/50\n",
            "497/497 [==============================] - 1s 2ms/step - loss: 0.3677 - accuracy: 0.7947\n",
            "Epoch 45/50\n",
            "497/497 [==============================] - 1s 2ms/step - loss: 0.3667 - accuracy: 0.7912\n",
            "Epoch 46/50\n",
            "497/497 [==============================] - 1s 2ms/step - loss: 0.3837 - accuracy: 0.7921\n",
            "Epoch 47/50\n",
            "497/497 [==============================] - 1s 2ms/step - loss: 0.3587 - accuracy: 0.7949\n",
            "Epoch 48/50\n",
            "497/497 [==============================] - 1s 2ms/step - loss: 0.3706 - accuracy: 0.7931\n",
            "Epoch 49/50\n",
            "497/497 [==============================] - 1s 2ms/step - loss: 0.3575 - accuracy: 0.7980\n",
            "Epoch 50/50\n",
            "497/497 [==============================] - 1s 2ms/step - loss: 0.3565 - accuracy: 0.7998\n"
          ]
        },
        {
          "output_type": "execute_result",
          "data": {
            "text/plain": [
              "<keras.callbacks.History at 0x7fccfe663610>"
            ]
          },
          "metadata": {},
          "execution_count": 11
        }
      ]
    }
  ]
}